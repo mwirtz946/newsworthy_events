{
 "cells": [
  {
   "cell_type": "markdown",
   "metadata": {},
   "source": [
    "# Business Problem "
   ]
  },
  {
   "cell_type": "markdown",
   "metadata": {},
   "source": [
    "# Data Cleaning"
   ]
  },
  {
   "cell_type": "code",
   "execution_count": 4,
   "metadata": {
    "ExecuteTime": {
     "end_time": "2020-12-06T19:03:29.350940Z",
     "start_time": "2020-12-06T19:03:15.261020Z"
    }
   },
   "outputs": [],
   "source": [
    "import pandas as pd\n",
    "import numpy as np\n",
    "from nltk.corpus import stopwords\n",
    "from nltk.tokenize import RegexpTokenizer\n",
    "from nltk.tokenize import punkt\n",
    "import nltk\n",
    "from nltk import word_tokenize\n",
    "from sklearn.feature_extraction.text import CountVectorizer\n",
    "from sklearn.ensemble import RandomForestClassifier\n",
    "from sklearn.model_selection import train_test_split\n",
    "from sklearn.model_selection import GridSearchCV\n",
    "from sklearn.model_selection import RandomizedSearchCV\n",
    "from nltk.stem import WordNetLemmatizer \n",
    "from sklearn.feature_extraction.text import TfidfVectorizer\n",
    "from sklearn.feature_extraction.text import TfidfTransformer\n",
    "from sklearn.metrics import recall_score, accuracy_score\n",
    "\n",
    "import keras\n",
    "from keras.datasets import mnist\n",
    "from keras.models import Sequential\n",
    "from keras.layers import Dense, Dropout\n",
    "from keras.optimizers import RMSprop\n",
    "from keras.optimizers import Adam, SGD\n",
    "\n",
    "from wordcloud import WordCloud\n",
    "from textwrap import wrap\n",
    "from textblob import TextBlob\n",
    "import gensim\n",
    "from gensim.models import Word2Vec\n",
    "\n",
    "\n",
    "pd.set_option('display.max_columns', 1000)\n",
    "\n",
    "import seaborn as sns\n",
    "import matplotlib.pyplot as plt\n",
    "import matplotlib.ticker as mtick\n",
    "% matplotlib inline\n",
    "\n",
    "import string, re\n",
    "\n",
    "import warnings\n",
    "warnings.filterwarnings(\"ignore\")"
   ]
  },
  {
   "cell_type": "code",
   "execution_count": 5,
   "metadata": {
    "ExecuteTime": {
     "end_time": "2020-12-06T19:03:31.120182Z",
     "start_time": "2020-12-06T19:03:30.996071Z"
    }
   },
   "outputs": [],
   "source": [
    "data = pd.read_csv('data/tweets.csv')"
   ]
  },
  {
   "cell_type": "code",
   "execution_count": 6,
   "metadata": {
    "ExecuteTime": {
     "end_time": "2020-12-06T19:03:35.008675Z",
     "start_time": "2020-12-06T19:03:34.986023Z"
    }
   },
   "outputs": [
    {
     "data": {
      "text/html": [
       "<div>\n",
       "<style scoped>\n",
       "    .dataframe tbody tr th:only-of-type {\n",
       "        vertical-align: middle;\n",
       "    }\n",
       "\n",
       "    .dataframe tbody tr th {\n",
       "        vertical-align: top;\n",
       "    }\n",
       "\n",
       "    .dataframe thead th {\n",
       "        text-align: right;\n",
       "    }\n",
       "</style>\n",
       "<table border=\"1\" class=\"dataframe\">\n",
       "  <thead>\n",
       "    <tr style=\"text-align: right;\">\n",
       "      <th></th>\n",
       "      <th>id</th>\n",
       "      <th>keyword</th>\n",
       "      <th>location</th>\n",
       "      <th>text</th>\n",
       "      <th>target</th>\n",
       "    </tr>\n",
       "  </thead>\n",
       "  <tbody>\n",
       "    <tr>\n",
       "      <th>0</th>\n",
       "      <td>0</td>\n",
       "      <td>ablaze</td>\n",
       "      <td>NaN</td>\n",
       "      <td>Communal violence in Bhainsa, Telangana. \"Ston...</td>\n",
       "      <td>1</td>\n",
       "    </tr>\n",
       "    <tr>\n",
       "      <th>1</th>\n",
       "      <td>1</td>\n",
       "      <td>ablaze</td>\n",
       "      <td>NaN</td>\n",
       "      <td>Telangana: Section 144 has been imposed in Bha...</td>\n",
       "      <td>1</td>\n",
       "    </tr>\n",
       "    <tr>\n",
       "      <th>2</th>\n",
       "      <td>2</td>\n",
       "      <td>ablaze</td>\n",
       "      <td>New York City</td>\n",
       "      <td>Arsonist sets cars ablaze at dealership https:...</td>\n",
       "      <td>1</td>\n",
       "    </tr>\n",
       "    <tr>\n",
       "      <th>3</th>\n",
       "      <td>3</td>\n",
       "      <td>ablaze</td>\n",
       "      <td>Morgantown, WV</td>\n",
       "      <td>Arsonist sets cars ablaze at dealership https:...</td>\n",
       "      <td>1</td>\n",
       "    </tr>\n",
       "    <tr>\n",
       "      <th>4</th>\n",
       "      <td>4</td>\n",
       "      <td>ablaze</td>\n",
       "      <td>NaN</td>\n",
       "      <td>\"Lord Jesus, your love brings freedom and pard...</td>\n",
       "      <td>0</td>\n",
       "    </tr>\n",
       "  </tbody>\n",
       "</table>\n",
       "</div>"
      ],
      "text/plain": [
       "   id keyword        location  \\\n",
       "0   0  ablaze             NaN   \n",
       "1   1  ablaze             NaN   \n",
       "2   2  ablaze   New York City   \n",
       "3   3  ablaze  Morgantown, WV   \n",
       "4   4  ablaze             NaN   \n",
       "\n",
       "                                                text  target  \n",
       "0  Communal violence in Bhainsa, Telangana. \"Ston...       1  \n",
       "1  Telangana: Section 144 has been imposed in Bha...       1  \n",
       "2  Arsonist sets cars ablaze at dealership https:...       1  \n",
       "3  Arsonist sets cars ablaze at dealership https:...       1  \n",
       "4  \"Lord Jesus, your love brings freedom and pard...       0  "
      ]
     },
     "execution_count": 6,
     "metadata": {},
     "output_type": "execute_result"
    }
   ],
   "source": [
    "data.head()"
   ]
  },
  {
   "cell_type": "code",
   "execution_count": 7,
   "metadata": {
    "ExecuteTime": {
     "end_time": "2020-12-06T19:03:36.171678Z",
     "start_time": "2020-12-06T19:03:36.162232Z"
    }
   },
   "outputs": [
    {
     "data": {
      "text/plain": [
       "id             0\n",
       "keyword        0\n",
       "location    3418\n",
       "text           0\n",
       "target         0\n",
       "dtype: int64"
      ]
     },
     "execution_count": 7,
     "metadata": {},
     "output_type": "execute_result"
    }
   ],
   "source": [
    "data.isna().sum()"
   ]
  },
  {
   "cell_type": "markdown",
   "metadata": {},
   "source": [
    "#  Exploratory Data Analysis"
   ]
  },
  {
   "cell_type": "markdown",
   "metadata": {},
   "source": [
    "## Reclassifying Disaster as Event / Non-Event"
   ]
  },
  {
   "cell_type": "code",
   "execution_count": 8,
   "metadata": {
    "ExecuteTime": {
     "end_time": "2020-12-06T19:03:38.026737Z",
     "start_time": "2020-12-06T19:03:38.011778Z"
    }
   },
   "outputs": [
    {
     "data": {
      "text/html": [
       "<div>\n",
       "<style scoped>\n",
       "    .dataframe tbody tr th:only-of-type {\n",
       "        vertical-align: middle;\n",
       "    }\n",
       "\n",
       "    .dataframe tbody tr th {\n",
       "        vertical-align: top;\n",
       "    }\n",
       "\n",
       "    .dataframe thead th {\n",
       "        text-align: right;\n",
       "    }\n",
       "</style>\n",
       "<table border=\"1\" class=\"dataframe\">\n",
       "  <thead>\n",
       "    <tr style=\"text-align: right;\">\n",
       "      <th></th>\n",
       "      <th>id</th>\n",
       "      <th>keyword</th>\n",
       "      <th>location</th>\n",
       "      <th>text</th>\n",
       "      <th>target</th>\n",
       "    </tr>\n",
       "  </thead>\n",
       "  <tbody>\n",
       "    <tr>\n",
       "      <th>0</th>\n",
       "      <td>0</td>\n",
       "      <td>ablaze</td>\n",
       "      <td>NaN</td>\n",
       "      <td>Communal violence in Bhainsa, Telangana. \"Ston...</td>\n",
       "      <td>1</td>\n",
       "    </tr>\n",
       "    <tr>\n",
       "      <th>1</th>\n",
       "      <td>1</td>\n",
       "      <td>ablaze</td>\n",
       "      <td>NaN</td>\n",
       "      <td>Telangana: Section 144 has been imposed in Bha...</td>\n",
       "      <td>1</td>\n",
       "    </tr>\n",
       "    <tr>\n",
       "      <th>2</th>\n",
       "      <td>2</td>\n",
       "      <td>ablaze</td>\n",
       "      <td>New York City</td>\n",
       "      <td>Arsonist sets cars ablaze at dealership https:...</td>\n",
       "      <td>1</td>\n",
       "    </tr>\n",
       "    <tr>\n",
       "      <th>3</th>\n",
       "      <td>3</td>\n",
       "      <td>ablaze</td>\n",
       "      <td>Morgantown, WV</td>\n",
       "      <td>Arsonist sets cars ablaze at dealership https:...</td>\n",
       "      <td>1</td>\n",
       "    </tr>\n",
       "    <tr>\n",
       "      <th>4</th>\n",
       "      <td>4</td>\n",
       "      <td>ablaze</td>\n",
       "      <td>NaN</td>\n",
       "      <td>\"Lord Jesus, your love brings freedom and pard...</td>\n",
       "      <td>0</td>\n",
       "    </tr>\n",
       "    <tr>\n",
       "      <th>5</th>\n",
       "      <td>5</td>\n",
       "      <td>ablaze</td>\n",
       "      <td>OC</td>\n",
       "      <td>If this child was Chinese, this tweet would ha...</td>\n",
       "      <td>0</td>\n",
       "    </tr>\n",
       "    <tr>\n",
       "      <th>6</th>\n",
       "      <td>6</td>\n",
       "      <td>ablaze</td>\n",
       "      <td>London, England</td>\n",
       "      <td>Several houses have been set ablaze in Ngemsib...</td>\n",
       "      <td>1</td>\n",
       "    </tr>\n",
       "    <tr>\n",
       "      <th>7</th>\n",
       "      <td>7</td>\n",
       "      <td>ablaze</td>\n",
       "      <td>Bharat</td>\n",
       "      <td>Asansol: A BJP office in Salanpur village was ...</td>\n",
       "      <td>1</td>\n",
       "    </tr>\n",
       "    <tr>\n",
       "      <th>8</th>\n",
       "      <td>8</td>\n",
       "      <td>ablaze</td>\n",
       "      <td>Accra, Ghana</td>\n",
       "      <td>National Security Minister, Kan Dapaah's side ...</td>\n",
       "      <td>0</td>\n",
       "    </tr>\n",
       "    <tr>\n",
       "      <th>9</th>\n",
       "      <td>9</td>\n",
       "      <td>ablaze</td>\n",
       "      <td>Searching</td>\n",
       "      <td>This creature who’s soul is no longer clarent ...</td>\n",
       "      <td>0</td>\n",
       "    </tr>\n",
       "    <tr>\n",
       "      <th>10</th>\n",
       "      <td>10</td>\n",
       "      <td>ablaze</td>\n",
       "      <td>NaN</td>\n",
       "      <td>Images showing the havoc caused by the #Camero...</td>\n",
       "      <td>1</td>\n",
       "    </tr>\n",
       "    <tr>\n",
       "      <th>11</th>\n",
       "      <td>11</td>\n",
       "      <td>ablaze</td>\n",
       "      <td>NaN</td>\n",
       "      <td>Social media went bananas after Chuba Hubbard ...</td>\n",
       "      <td>0</td>\n",
       "    </tr>\n",
       "    <tr>\n",
       "      <th>12</th>\n",
       "      <td>12</td>\n",
       "      <td>ablaze</td>\n",
       "      <td>NaN</td>\n",
       "      <td>Hausa youths set Area Office of Apapa-Iganmu L...</td>\n",
       "      <td>1</td>\n",
       "    </tr>\n",
       "    <tr>\n",
       "      <th>13</th>\n",
       "      <td>13</td>\n",
       "      <td>ablaze</td>\n",
       "      <td>HYDERABAD</td>\n",
       "      <td>Under #MamataBanerjee political violence &amp;amp;...</td>\n",
       "      <td>1</td>\n",
       "    </tr>\n",
       "    <tr>\n",
       "      <th>14</th>\n",
       "      <td>14</td>\n",
       "      <td>ablaze</td>\n",
       "      <td>Reno, NV</td>\n",
       "      <td>AMEN! Set the whole system ablaze, man. https:...</td>\n",
       "      <td>0</td>\n",
       "    </tr>\n",
       "    <tr>\n",
       "      <th>15</th>\n",
       "      <td>15</td>\n",
       "      <td>ablaze</td>\n",
       "      <td>NaN</td>\n",
       "      <td>Images showing the havoc caused by the #Camero...</td>\n",
       "      <td>1</td>\n",
       "    </tr>\n",
       "    <tr>\n",
       "      <th>16</th>\n",
       "      <td>16</td>\n",
       "      <td>ablaze</td>\n",
       "      <td>NaN</td>\n",
       "      <td>No cows today but our local factory is sadly s...</td>\n",
       "      <td>1</td>\n",
       "    </tr>\n",
       "    <tr>\n",
       "      <th>17</th>\n",
       "      <td>17</td>\n",
       "      <td>ablaze</td>\n",
       "      <td>NaN</td>\n",
       "      <td>Rengoku sets my heart ablaze😔❤️🔥 P.s. I missed...</td>\n",
       "      <td>0</td>\n",
       "    </tr>\n",
       "    <tr>\n",
       "      <th>18</th>\n",
       "      <td>18</td>\n",
       "      <td>ablaze</td>\n",
       "      <td>Worldwide</td>\n",
       "      <td>paulzizkaphoto: “Rundle Ablaze” Wishing you al...</td>\n",
       "      <td>0</td>\n",
       "    </tr>\n",
       "    <tr>\n",
       "      <th>19</th>\n",
       "      <td>19</td>\n",
       "      <td>ablaze</td>\n",
       "      <td>NaN</td>\n",
       "      <td>French cameroun set houses ablaze in Ndu and r...</td>\n",
       "      <td>1</td>\n",
       "    </tr>\n",
       "  </tbody>\n",
       "</table>\n",
       "</div>"
      ],
      "text/plain": [
       "    id keyword         location  \\\n",
       "0    0  ablaze              NaN   \n",
       "1    1  ablaze              NaN   \n",
       "2    2  ablaze    New York City   \n",
       "3    3  ablaze   Morgantown, WV   \n",
       "4    4  ablaze              NaN   \n",
       "5    5  ablaze               OC   \n",
       "6    6  ablaze  London, England   \n",
       "7    7  ablaze           Bharat   \n",
       "8    8  ablaze     Accra, Ghana   \n",
       "9    9  ablaze        Searching   \n",
       "10  10  ablaze              NaN   \n",
       "11  11  ablaze              NaN   \n",
       "12  12  ablaze              NaN   \n",
       "13  13  ablaze        HYDERABAD   \n",
       "14  14  ablaze         Reno, NV   \n",
       "15  15  ablaze              NaN   \n",
       "16  16  ablaze              NaN   \n",
       "17  17  ablaze              NaN   \n",
       "18  18  ablaze        Worldwide   \n",
       "19  19  ablaze              NaN   \n",
       "\n",
       "                                                 text  target  \n",
       "0   Communal violence in Bhainsa, Telangana. \"Ston...       1  \n",
       "1   Telangana: Section 144 has been imposed in Bha...       1  \n",
       "2   Arsonist sets cars ablaze at dealership https:...       1  \n",
       "3   Arsonist sets cars ablaze at dealership https:...       1  \n",
       "4   \"Lord Jesus, your love brings freedom and pard...       0  \n",
       "5   If this child was Chinese, this tweet would ha...       0  \n",
       "6   Several houses have been set ablaze in Ngemsib...       1  \n",
       "7   Asansol: A BJP office in Salanpur village was ...       1  \n",
       "8   National Security Minister, Kan Dapaah's side ...       0  \n",
       "9   This creature who’s soul is no longer clarent ...       0  \n",
       "10  Images showing the havoc caused by the #Camero...       1  \n",
       "11  Social media went bananas after Chuba Hubbard ...       0  \n",
       "12  Hausa youths set Area Office of Apapa-Iganmu L...       1  \n",
       "13  Under #MamataBanerjee political violence &amp;...       1  \n",
       "14  AMEN! Set the whole system ablaze, man. https:...       0  \n",
       "15  Images showing the havoc caused by the #Camero...       1  \n",
       "16  No cows today but our local factory is sadly s...       1  \n",
       "17  Rengoku sets my heart ablaze😔❤️🔥 P.s. I missed...       0  \n",
       "18  paulzizkaphoto: “Rundle Ablaze” Wishing you al...       0  \n",
       "19  French cameroun set houses ablaze in Ndu and r...       1  "
      ]
     },
     "execution_count": 8,
     "metadata": {},
     "output_type": "execute_result"
    }
   ],
   "source": [
    "data.head(20)"
   ]
  },
  {
   "cell_type": "markdown",
   "metadata": {},
   "source": [
    "When going through the text data, we found that disaster is used incorrectly in classifying the tweets. We found that a better classification would more appropriately be either \"Event\" or \"Non-Event.\" This is because we found many instances of positive \"Disaster\" classification when we believe the instance to not meet that definition. For example, many instances of thunderstorms were each classified as a \"Disaster\", while we believe that instances such as those would be better classified as an \"Event.\""
   ]
  },
  {
   "cell_type": "markdown",
   "metadata": {},
   "source": [
    "## What should they search for?"
   ]
  },
  {
   "cell_type": "markdown",
   "metadata": {},
   "source": [
    "### What's the Class Imbalance?"
   ]
  },
  {
   "cell_type": "code",
   "execution_count": 9,
   "metadata": {
    "ExecuteTime": {
     "end_time": "2020-12-06T19:03:41.189217Z",
     "start_time": "2020-12-06T19:03:40.999098Z"
    }
   },
   "outputs": [
    {
     "data": {
      "text/plain": [
       "Text(0, 0.5, 'Percentage')"
      ]
     },
     "execution_count": 9,
     "metadata": {},
     "output_type": "execute_result"
    },
    {
     "data": {
      "image/png": "[encoded data removed]",
      "text/plain": [
       "<Figure size 720x360 with 1 Axes>"
      ]
     },
     "metadata": {
      "needs_background": "light"
     },
     "output_type": "display_data"
    }
   ],
   "source": [
    "class_imbalance = [len(data[data.target == 1]), len(data[data.target == 0])]\n",
    "classes = ['Event','Non-Event']\n",
    "\n",
    "fig, ax = plt.subplots(figsize=(10,5))\n",
    "sns.barplot(classes, class_imbalance, ax = ax, palette='rocket')\n",
    "ax.yaxis.set_major_formatter(mtick.PercentFormatter(11370))\n",
    "plt.title('Class Imbalance in Event Dataset', fontsize=22, fontweight='bold')\n",
    "plt.xlabel('Classification', fontsize=16)\n",
    "plt.ylabel('Percentage', fontsize=16)"
   ]
  },
  {
   "cell_type": "markdown",
   "metadata": {},
   "source": [
    "### Most Common Keywords that were Real Events"
   ]
  },
  {
   "cell_type": "code",
   "execution_count": 10,
   "metadata": {
    "ExecuteTime": {
     "end_time": "2020-12-06T19:03:42.447416Z",
     "start_time": "2020-12-06T19:03:42.433717Z"
    }
   },
   "outputs": [],
   "source": [
    "# data[data.target == 1]['keyword'].value_counts().head(10).plot(kind = 'bar')\n",
    "keyword_real = pd.DataFrame(data[data.target == 1]['keyword'].value_counts().head(10))\n",
    "keyword_real.reset_index(inplace=True)\n",
    "keyword_real.columns = ['keyword','frequency']\n",
    "keyword_real.keyword = keyword_real.keyword.apply(lambda x: x.split('%20'))\n",
    "keyword_real.keyword = keyword_real.keyword.apply(lambda x: ','.join(x))\n",
    "keyword_real.keyword = keyword_real.keyword.apply(lambda x: x.replace(',',' '))\n",
    "keyword_real.keyword = keyword_real.keyword.apply(lambda x: x.title())\n"
   ]
  },
  {
   "cell_type": "code",
   "execution_count": 11,
   "metadata": {
    "ExecuteTime": {
     "end_time": "2020-12-06T19:03:43.298497Z",
     "start_time": "2020-12-06T19:03:43.059485Z"
    }
   },
   "outputs": [
    {
     "data": {
      "text/plain": [
       "Text(0.5, 0, 'Frequency')"
      ]
     },
     "execution_count": 11,
     "metadata": {},
     "output_type": "execute_result"
    },
    {
     "data": {
      "image/png": "[encoded data removed]",
      "text/plain": [
       "<Figure size 720x360 with 1 Axes>"
      ]
     },
     "metadata": {
      "needs_background": "light"
     },
     "output_type": "display_data"
    }
   ],
   "source": [
    "plt.figure(figsize=(10,5))\n",
    "plt.barh(keyword_real.keyword, keyword_real.frequency, color='blue')\n",
    "plt.title('Most Common Keywords for Real Events', fontsize=22, fontweight='bold')\n",
    "plt.xlabel('Frequency', fontsize=16, fontweight='bold')"
   ]
  },
  {
   "cell_type": "markdown",
   "metadata": {},
   "source": [
    "### Most Common Keywords that were Not Event Related"
   ]
  },
  {
   "cell_type": "code",
   "execution_count": 12,
   "metadata": {
    "ExecuteTime": {
     "end_time": "2020-12-06T19:03:44.140240Z",
     "start_time": "2020-12-06T19:03:44.125923Z"
    }
   },
   "outputs": [],
   "source": [
    "keyword_not = pd.DataFrame(data[data.target == 0]['keyword'].value_counts().head(10))\n",
    "keyword_not.reset_index(inplace=True)\n",
    "keyword_not.columns = ['keyword','frequency']\n",
    "keyword_not.keyword = keyword_not.keyword.apply(lambda x: x.split('%20'))\n",
    "keyword_not.keyword = keyword_not.keyword.apply(lambda x: ','.join(x))\n",
    "keyword_not.keyword = keyword_not.keyword.apply(lambda x: x.replace(',',' '))\n",
    "keyword_not.keyword = keyword_not.keyword.apply(lambda x: x.title())"
   ]
  },
  {
   "cell_type": "code",
   "execution_count": 13,
   "metadata": {
    "ExecuteTime": {
     "end_time": "2020-12-06T19:03:45.107402Z",
     "start_time": "2020-12-06T19:03:44.909659Z"
    }
   },
   "outputs": [
    {
     "data": {
      "text/plain": [
       "Text(0.5, 0, 'Frequency')"
      ]
     },
     "execution_count": 13,
     "metadata": {},
     "output_type": "execute_result"
    },
    {
     "data": {
      "image/png": "[encoded data removed]",
      "text/plain": [
       "<Figure size 720x360 with 1 Axes>"
      ]
     },
     "metadata": {
      "needs_background": "light"
     },
     "output_type": "display_data"
    }
   ],
   "source": [
    "plt.figure(figsize=(10,5))\n",
    "plt.barh(keyword_not.keyword, keyword_not.frequency, color='purple')\n",
    "plt.title('Most Common Keywords for Not Event-Related', fontsize=22, fontweight='bold')\n",
    "plt.xlabel('Frequency', fontsize=16, fontweight='bold')"
   ]
  },
  {
   "cell_type": "markdown",
   "metadata": {},
   "source": [
    "### Where are our Tweets Coming From?"
   ]
  },
  {
   "cell_type": "code",
   "execution_count": 14,
   "metadata": {
    "ExecuteTime": {
     "end_time": "2020-12-06T19:03:46.295660Z",
     "start_time": "2020-12-06T19:03:46.286080Z"
    }
   },
   "outputs": [],
   "source": [
    "data.location.replace(['California, USA', 'Los Angeles, CA', 'United States'], 'USA', inplace= True)\n",
    "data.location.replace(['Lagos, Nigeria'], 'Nigeria', inplace= True)\n",
    "data.location.replace(['England, United Kingdom','United Kingdom'], 'UK', inplace= True)\n",
    "data.location.replace(['Earth'], 'Unknown', inplace= True)\n"
   ]
  },
  {
   "cell_type": "code",
   "execution_count": 15,
   "metadata": {
    "ExecuteTime": {
     "end_time": "2020-12-06T19:03:47.009660Z",
     "start_time": "2020-12-06T19:03:46.853672Z"
    },
    "scrolled": true
   },
   "outputs": [
    {
     "data": {
      "text/plain": [
       "Text(0.5, 0, 'Frequency')"
      ]
     },
     "execution_count": 15,
     "metadata": {},
     "output_type": "execute_result"
    },
    {
     "data": {
      "image/png": "[encoded data removed]",
      "text/plain": [
       "<Figure size 720x360 with 1 Axes>"
      ]
     },
     "metadata": {
      "needs_background": "light"
     },
     "output_type": "display_data"
    }
   ],
   "source": [
    "location = pd.DataFrame(data.location.value_counts().head(10))\n",
    "\n",
    "plt.figure(figsize=(10,5))\n",
    "plt.barh(location.index, location.location, color='orange')\n",
    "plt.title('Most Common Countries for Tweet Origin', fontsize=22, fontweight='bold')\n",
    "plt.xlabel('Frequency', fontsize=16, fontweight='bold')"
   ]
  },
  {
   "cell_type": "markdown",
   "metadata": {},
   "source": [
    "### Was Sentiment Different Btw the Positive and Negative Classes?"
   ]
  },
  {
   "cell_type": "markdown",
   "metadata": {},
   "source": [
    "#### Polarity"
   ]
  },
  {
   "cell_type": "code",
   "execution_count": 16,
   "metadata": {
    "ExecuteTime": {
     "end_time": "2020-12-06T19:04:17.417686Z",
     "start_time": "2020-12-06T19:04:12.134801Z"
    }
   },
   "outputs": [],
   "source": [
    "data['polarity_score'] = data['text'].apply(lambda x: TextBlob(x).sentiment.polarity)"
   ]
  },
  {
   "cell_type": "code",
   "execution_count": 17,
   "metadata": {
    "ExecuteTime": {
     "end_time": "2020-12-06T19:04:36.422670Z",
     "start_time": "2020-12-06T19:04:36.398355Z"
    }
   },
   "outputs": [
    {
     "name": "stdout",
     "output_type": "stream",
     "text": [
      "0.299% of the disaster data has negative polarity\n",
      "0.225% of the non-disaster data has negative polarity\n"
     ]
    }
   ],
   "source": [
    "positive = data[data.target == 1]\n",
    "negative = data[data.target == 0]\n",
    "perc_pos = round((len(positive[positive.polarity_score < 0]) / len(positive)), 3)\n",
    "perc_neg = round((len(negative[negative.polarity_score < 0]) / len(negative)), 3)\n",
    "print('{}% of the disaster data has negative polarity'.format(perc_pos))\n",
    "print('{}% of the non-disaster data has negative polarity'.format(perc_neg))"
   ]
  },
  {
   "cell_type": "code",
   "execution_count": 18,
   "metadata": {
    "ExecuteTime": {
     "end_time": "2020-12-06T19:04:56.158629Z",
     "start_time": "2020-12-06T19:04:55.815718Z"
    }
   },
   "outputs": [
    {
     "data": {
      "text/plain": [
       "<matplotlib.legend.Legend at 0x1a46a0e400>"
      ]
     },
     "execution_count": 18,
     "metadata": {},
     "output_type": "execute_result"
    },
    {
     "data": {
      "image/png": "[encoded data removed]",
      "text/plain": [
       "<Figure size 432x288 with 1 Axes>"
      ]
     },
     "metadata": {
      "needs_background": "light"
     },
     "output_type": "display_data"
    }
   ],
   "source": [
    "sns.distplot(positive.polarity_score, label='Non-Event')\n",
    "sns.distplot(negative.polarity_score, label='Event')\n",
    "\n",
    "plt.title('Polarity of Tweets', fontsize=22, fontweight='bold')\n",
    "plt.xlabel('Polarity')\n",
    "plt.legend()"
   ]
  },
  {
   "cell_type": "markdown",
   "metadata": {},
   "source": [
    "#### Subjectivity"
   ]
  },
  {
   "cell_type": "code",
   "execution_count": 19,
   "metadata": {
    "ExecuteTime": {
     "end_time": "2020-12-06T19:05:35.781196Z",
     "start_time": "2020-12-06T19:05:29.806324Z"
    }
   },
   "outputs": [],
   "source": [
    "data['subjectivity_score'] = data['text'].apply(lambda x: TextBlob(x).sentiment.subjectivity)"
   ]
  },
  {
   "cell_type": "code",
   "execution_count": 20,
   "metadata": {
    "ExecuteTime": {
     "end_time": "2020-12-06T19:07:40.120624Z",
     "start_time": "2020-12-06T19:07:39.809824Z"
    }
   },
   "outputs": [
    {
     "data": {
      "text/plain": [
       "<matplotlib.legend.Legend at 0x1a46a0ee10>"
      ]
     },
     "execution_count": 20,
     "metadata": {},
     "output_type": "execute_result"
    },
    {
     "data": {
      "image/png": "[encoded data removed]",
      "text/plain": [
       "<Figure size 432x288 with 1 Axes>"
      ]
     },
     "metadata": {
      "needs_background": "light"
     },
     "output_type": "display_data"
    }
   ],
   "source": [
    "positive = data[data.target == 1]\n",
    "negative = data[data.target == 0]\n",
    "sns.distplot(positive.subjectivity_score, label='Non-Event', color='blue')\n",
    "sns.distplot(negative.subjectivity_score, label='Event', color='orange')\n",
    "\n",
    "plt.title('Subjectivity of Tweets', fontsize=22, fontweight='bold')\n",
    "plt.xlabel('Subjectivity')\n",
    "plt.legend()"
   ]
  },
  {
   "cell_type": "markdown",
   "metadata": {},
   "source": [
    "### Does Tweet Length Make a Difference?"
   ]
  },
  {
   "cell_type": "code",
   "execution_count": 21,
   "metadata": {
    "ExecuteTime": {
     "end_time": "2020-12-06T19:08:24.325103Z",
     "start_time": "2020-12-06T19:08:24.303904Z"
    }
   },
   "outputs": [],
   "source": [
    "data['text_length'] = data['text'].apply(lambda x: len(x))"
   ]
  },
  {
   "cell_type": "code",
   "execution_count": 22,
   "metadata": {
    "ExecuteTime": {
     "end_time": "2020-12-06T19:08:29.864484Z",
     "start_time": "2020-12-06T19:08:29.853548Z"
    }
   },
   "outputs": [],
   "source": [
    "positive = data[data.target == 1]\n",
    "negative = data[data.target == 0]"
   ]
  },
  {
   "cell_type": "code",
   "execution_count": 23,
   "metadata": {
    "ExecuteTime": {
     "end_time": "2020-12-06T19:08:51.289984Z",
     "start_time": "2020-12-06T19:08:51.114483Z"
    }
   },
   "outputs": [
    {
     "data": {
      "text/plain": [
       "Text(0, 0.5, 'Median')"
      ]
     },
     "execution_count": 23,
     "metadata": {},
     "output_type": "execute_result"
    },
    {
     "data": {
      "image/png": "[encoded data removed]",
      "text/plain": [
       "<Figure size 432x288 with 1 Axes>"
      ]
     },
     "metadata": {
      "needs_background": "light"
     },
     "output_type": "display_data"
    }
   ],
   "source": [
    "avg_length_pos = positive.text_length.median()\n",
    "avg_length_neg = negative.text_length.median()\n",
    "plt.bar(('Event','Non-Event'),(avg_length_pos, avg_length_neg), color='blue')\n",
    "plt.title('Median Tweet Length', fontsize=13, fontweight='bold')\n",
    "plt.xlabel('Class')\n",
    "plt.ylabel('Median')"
   ]
  },
  {
   "cell_type": "markdown",
   "metadata": {},
   "source": [
    "### Is there a Difference Btw Tweets with and without Hyperlinks?"
   ]
  },
  {
   "cell_type": "code",
   "execution_count": 24,
   "metadata": {
    "ExecuteTime": {
     "end_time": "2020-12-06T19:09:34.514133Z",
     "start_time": "2020-12-06T19:09:34.503663Z"
    }
   },
   "outputs": [],
   "source": [
    "data['hyperlink_present'] = data.text.apply(lambda x: 1 if 'https' in x else 0)"
   ]
  },
  {
   "cell_type": "code",
   "execution_count": 25,
   "metadata": {
    "ExecuteTime": {
     "end_time": "2020-12-06T19:09:39.988537Z",
     "start_time": "2020-12-06T19:09:39.979340Z"
    }
   },
   "outputs": [],
   "source": [
    "positive = data[data.target == 1]\n",
    "negative = data[data.target == 0]"
   ]
  },
  {
   "cell_type": "code",
   "execution_count": 26,
   "metadata": {
    "ExecuteTime": {
     "end_time": "2020-12-06T19:10:33.222860Z",
     "start_time": "2020-12-06T19:10:33.050208Z"
    }
   },
   "outputs": [
    {
     "data": {
      "text/plain": [
       "Text(0, 0.5, 'Hyperlink in Tweet Rate')"
      ]
     },
     "execution_count": 26,
     "metadata": {},
     "output_type": "execute_result"
    },
    {
     "data": {
      "image/png": "[encoded data removed]",
      "text/plain": [
       "<Figure size 432x288 with 1 Axes>"
      ]
     },
     "metadata": {
      "needs_background": "light"
     },
     "output_type": "display_data"
    }
   ],
   "source": [
    "hyperlink_labels = ['Event','Non-Event']\n",
    "hyperlink_frequencies = ((positive.hyperlink_present.sum() / len(positive)), \n",
    "                     (negative.hyperlink_present.sum() / len(negative)))\n",
    "\n",
    "sns.barplot(hyperlink_labels, hyperlink_frequencies)\n",
    "plt.title('Hyperlink Frequency Event vs Non-Event', fontsize=13, fontweight='bold')\n",
    "plt.xlabel('Class')\n",
    "plt.ylabel('Hyperlink in Tweet Rate')"
   ]
  },
  {
   "cell_type": "markdown",
   "metadata": {},
   "source": [
    "### Most Common Unigram Search Result Words for Real Events"
   ]
  },
  {
   "cell_type": "code",
   "execution_count": 27,
   "metadata": {
    "ExecuteTime": {
     "end_time": "2020-12-03T15:32:23.830142Z",
     "start_time": "2020-12-03T15:32:23.721487Z"
    }
   },
   "outputs": [],
   "source": [
    "cloud = data\n",
    "tokenizer = RegexpTokenizer(r'[a-zA-Z]+')\n",
    "cloud.text = cloud.text.apply(lambda x: tokenizer.tokenize(x))"
   ]
  },
  {
   "cell_type": "code",
   "execution_count": 28,
   "metadata": {
    "ExecuteTime": {
     "end_time": "2020-12-03T15:32:24.629600Z",
     "start_time": "2020-12-03T15:32:24.550869Z"
    }
   },
   "outputs": [],
   "source": [
    "def lower_token(word_list):\n",
    "    lowered_tokenized = []\n",
    "    for x in word_list:\n",
    "        x = x.lower()\n",
    "        lowered_tokenized.append(x)\n",
    "    return lowered_tokenized\n",
    "\n",
    "cloud.text = cloud.text.apply(lambda x: lower_token(x))"
   ]
  },
  {
   "cell_type": "code",
   "execution_count": 29,
   "metadata": {
    "ExecuteTime": {
     "end_time": "2020-12-03T15:32:26.042100Z",
     "start_time": "2020-12-03T15:32:26.020028Z"
    }
   },
   "outputs": [],
   "source": [
    "stopword_given = stopwords.words('english')\n",
    "more_stopwords = ['co','amp','say','want','really','many','let','see','said','got','day','https','c','w','still','go','u','new','one','b','know','two','make','people','us','think','h','time','g','another','p','l','today','th','n','e','v','x','j','z','f','always','good','thing','must','someone','even','much','guy','work','house','video','every','stop','remember','need','first','back','country','well','man','come','live','year','via','take','going','tell','next','q','place','says','days','made','news','world','hour','feel','bad','last','never','put','may','way','gon','na','au','gove']\n",
    "stopwords_final = stopword_given + more_stopwords"
   ]
  },
  {
   "cell_type": "code",
   "execution_count": 30,
   "metadata": {
    "ExecuteTime": {
     "end_time": "2020-12-03T15:32:27.618757Z",
     "start_time": "2020-12-03T15:32:27.067854Z"
    }
   },
   "outputs": [],
   "source": [
    "def remove_stops(word_list):\n",
    "    filtered = []\n",
    "    for x in word_list:\n",
    "        if x not in stopwords_final:\n",
    "            filtered.append(x)\n",
    "    return filtered\n",
    "\n",
    "cloud.text = cloud.text.apply(lambda x: remove_stops(x))"
   ]
  },
  {
   "cell_type": "code",
   "execution_count": 31,
   "metadata": {
    "ExecuteTime": {
     "end_time": "2020-12-03T15:32:28.191550Z",
     "start_time": "2020-12-03T15:32:28.161469Z"
    }
   },
   "outputs": [],
   "source": [
    "cloud.text = cloud.text.apply(lambda x: ','.join(x))\n",
    "cloud.text = cloud.text.apply(lambda x: x.replace(',',' '))"
   ]
  },
  {
   "cell_type": "code",
   "execution_count": 32,
   "metadata": {
    "ExecuteTime": {
     "end_time": "2020-12-03T15:32:28.589167Z",
     "start_time": "2020-12-03T15:32:28.584021Z"
    }
   },
   "outputs": [],
   "source": [
    "cloud_positive = cloud[cloud.target == 1]\n",
    "text_positive = \" \".join(review for review in cloud_positive.text)"
   ]
  },
  {
   "cell_type": "code",
   "execution_count": 33,
   "metadata": {
    "ExecuteTime": {
     "end_time": "2020-12-03T15:32:29.636213Z",
     "start_time": "2020-12-03T15:32:29.220167Z"
    }
   },
   "outputs": [
    {
     "data": {
      "image/png": "[encoded data removed]",
      "text/plain": [
       "<Figure size 432x288 with 1 Axes>"
      ]
     },
     "metadata": {
      "needs_background": "light"
     },
     "output_type": "display_data"
    }
   ],
   "source": [
    "wordcloud_full = WordCloud(background_color=\"black\", max_words = 50).generate(text_positive)\n",
    "\n",
    "plt.imshow(wordcloud_full, interpolation='bilinear')\n",
    "plt.axis(\"off\")\n",
    "plt.show()"
   ]
  },
  {
   "cell_type": "markdown",
   "metadata": {},
   "source": [
    "### Most Common Unigram Search Result Words for Non Event-Related"
   ]
  },
  {
   "cell_type": "code",
   "execution_count": 34,
   "metadata": {
    "ExecuteTime": {
     "end_time": "2020-12-03T15:32:30.175857Z",
     "start_time": "2020-12-03T15:32:30.166594Z"
    }
   },
   "outputs": [],
   "source": [
    "cloud_negative = cloud[cloud.target == 0]"
   ]
  },
  {
   "cell_type": "code",
   "execution_count": 35,
   "metadata": {
    "ExecuteTime": {
     "end_time": "2020-12-03T15:32:30.738077Z",
     "start_time": "2020-12-03T15:32:30.729037Z"
    }
   },
   "outputs": [],
   "source": [
    "text_negative = \" \".join(review for review in cloud_negative.text)"
   ]
  },
  {
   "cell_type": "code",
   "execution_count": 36,
   "metadata": {
    "ExecuteTime": {
     "end_time": "2020-12-03T15:32:32.276267Z",
     "start_time": "2020-12-03T15:32:31.286066Z"
    },
    "scrolled": true
   },
   "outputs": [
    {
     "data": {
      "image/png": "[encoded data removed]",
      "text/plain": [
       "<Figure size 432x288 with 1 Axes>"
      ]
     },
     "metadata": {
      "needs_background": "light"
     },
     "output_type": "display_data"
    }
   ],
   "source": [
    "wordcloud_negative = WordCloud(background_color=\"black\", max_words = 50).generate(text_negative)\n",
    "\n",
    "plt.imshow(wordcloud_negative, interpolation='bilinear')\n",
    "plt.axis(\"off\")\n",
    "plt.show()"
   ]
  },
  {
   "cell_type": "markdown",
   "metadata": {},
   "source": [
    "### Most Common Unigram Search Result Words for Real Events"
   ]
  },
  {
   "cell_type": "code",
   "execution_count": 37,
   "metadata": {
    "ExecuteTime": {
     "end_time": "2020-12-03T15:45:08.934931Z",
     "start_time": "2020-12-03T15:45:08.907711Z"
    }
   },
   "outputs": [],
   "source": [
    "def wordcloud_creator_bigram(data, max_words = 50, stopwords=None):\n",
    "\n",
    "    # Tokenize data\n",
    "    nltk_tokens = nltk.word_tokenize(data)\n",
    "    tokens_minus_stop = []\n",
    "    for i in nltk_tokens:\n",
    "        if i not in stopwords_final:\n",
    "            tokens_minus_stop.append(i)\n",
    "    # Create bigrams\n",
    "    bigrams_list = list(nltk.bigrams(tokens_minus_stop))\n",
    "    # Join bigrams\n",
    "    bigrams = [' '.join(tup) for tup in bigrams_list]\n",
    "    # Fit transform bigrams\n",
    "    vectorizer = CountVectorizer(ngram_range=(2, 2))\n",
    "    bag_of_words = vectorizer.fit_transform(bigrams)\n",
    "    # Get bigram counts\n",
    "    sum_words = bag_of_words.sum(axis=0) \n",
    "    # Create fequency dictionary\n",
    "    words_freq = [(word, sum_words[0, idx]) for word, idx in vectorizer.vocabulary_.items()]\n",
    "    # Sort frequency dictionary\n",
    "    words_freq =sorted(words_freq, key = lambda x: x[1], reverse=True)\n",
    "    # Reformat as dictionary\n",
    "    words_dict = dict(words_freq)\n",
    "    \n",
    "    # Create wordcloud\n",
    "    wordcloud = WordCloud(max_words=max_words, stopwords=None)\n",
    "    wordcloud.generate_from_frequencies(words_dict)\n",
    "    plt.imshow(wordcloud, interpolation='bilinear')\n",
    "    plt.axis(\"off\")\n",
    "    \n",
    "    return plt.show()"
   ]
  },
  {
   "cell_type": "code",
   "execution_count": 38,
   "metadata": {
    "ExecuteTime": {
     "end_time": "2020-12-03T15:45:10.883942Z",
     "start_time": "2020-12-03T15:45:10.232692Z"
    }
   },
   "outputs": [
    {
     "data": {
      "image/png": "[encoded data removed]",
      "text/plain": [
       "<Figure size 432x288 with 1 Axes>"
      ]
     },
     "metadata": {
      "needs_background": "light"
     },
     "output_type": "display_data"
    }
   ],
   "source": [
    "wordcloud_creator_bigram(text_positive)"
   ]
  },
  {
   "cell_type": "markdown",
   "metadata": {},
   "source": [
    "### Most Common Bigram Search Result Words for Non Event-Related"
   ]
  },
  {
   "cell_type": "code",
   "execution_count": 39,
   "metadata": {
    "ExecuteTime": {
     "end_time": "2020-12-03T15:45:14.208392Z",
     "start_time": "2020-12-03T15:45:12.268670Z"
    },
    "scrolled": true
   },
   "outputs": [
    {
     "data": {
      "image/png": "[encoded data removed]",
      "text/plain": [
       "<Figure size 432x288 with 1 Axes>"
      ]
     },
     "metadata": {
      "needs_background": "light"
     },
     "output_type": "display_data"
    }
   ],
   "source": [
    "wordcloud_creator_bigram(text_negative)"
   ]
  },
  {
   "cell_type": "markdown",
   "metadata": {},
   "source": [
    "### Most Similar Words for Real Event"
   ]
  },
  {
   "cell_type": "code",
   "execution_count": 40,
   "metadata": {
    "ExecuteTime": {
     "end_time": "2020-12-03T15:47:13.073153Z",
     "start_time": "2020-12-03T15:47:13.056277Z"
    }
   },
   "outputs": [],
   "source": [
    "vec_positive = data[data.target == 1]"
   ]
  },
  {
   "cell_type": "code",
   "execution_count": 41,
   "metadata": {
    "ExecuteTime": {
     "end_time": "2020-12-03T15:47:14.732598Z",
     "start_time": "2020-12-03T15:47:14.708363Z"
    }
   },
   "outputs": [],
   "source": [
    "tokenizer_vec_positive = RegexpTokenizer(r'[a-zA-Z]+')\n",
    "\n",
    "vec_positive.text = vec_positive.text.apply(lambda x: tokenizer_vec_positive.tokenize(x))\n",
    "\n"
   ]
  },
  {
   "cell_type": "code",
   "execution_count": 42,
   "metadata": {
    "ExecuteTime": {
     "end_time": "2020-12-03T15:47:19.221275Z",
     "start_time": "2020-12-03T15:47:19.115372Z"
    }
   },
   "outputs": [],
   "source": [
    "vec_positive.text = vec_positive.text.apply(lambda x: remove_stops(x))"
   ]
  },
  {
   "cell_type": "code",
   "execution_count": 43,
   "metadata": {
    "ExecuteTime": {
     "end_time": "2020-12-03T15:47:21.388056Z",
     "start_time": "2020-12-03T15:47:21.373814Z"
    }
   },
   "outputs": [],
   "source": [
    "vec_positive_list = []\n",
    "\n",
    "for sentence in vec_positive.text:\n",
    "    vec_positive_list.append(sentence)"
   ]
  },
  {
   "cell_type": "code",
   "execution_count": 44,
   "metadata": {
    "ExecuteTime": {
     "end_time": "2020-12-03T15:47:23.899298Z",
     "start_time": "2020-12-03T15:47:23.523008Z"
    }
   },
   "outputs": [],
   "source": [
    "model_positive = gensim.models.Word2Vec(vec_positive_list, size=32)"
   ]
  },
  {
   "cell_type": "code",
   "execution_count": 45,
   "metadata": {
    "ExecuteTime": {
     "end_time": "2020-12-03T15:47:25.782306Z",
     "start_time": "2020-12-03T15:47:25.753866Z"
    }
   },
   "outputs": [
    {
     "data": {
      "text/plain": [
       "[('role', 0.6744466423988342),\n",
       " ('influenza', 0.6660723090171814),\n",
       " ('iranian', 0.6520096063613892),\n",
       " ('olive', 0.6392245292663574),\n",
       " ('find', 0.6142639517784119),\n",
       " ('dead', 0.611478865146637),\n",
       " ('sydney', 0.5926734209060669),\n",
       " ('years', 0.5886222124099731),\n",
       " ('sector', 0.5876290202140808),\n",
       " ('dangerous', 0.5839536786079407)]"
      ]
     },
     "execution_count": 45,
     "metadata": {},
     "output_type": "execute_result"
    }
   ],
   "source": [
    "model_positive.most_similar('ablaze')"
   ]
  },
  {
   "cell_type": "markdown",
   "metadata": {},
   "source": [
    "### Most Similar Words for Non Event-Related"
   ]
  },
  {
   "cell_type": "code",
   "execution_count": 46,
   "metadata": {
    "ExecuteTime": {
     "end_time": "2020-12-03T15:47:37.939268Z",
     "start_time": "2020-12-03T15:47:37.931704Z"
    }
   },
   "outputs": [],
   "source": [
    "vec_negative = data[data.target == 0]"
   ]
  },
  {
   "cell_type": "code",
   "execution_count": 47,
   "metadata": {
    "ExecuteTime": {
     "end_time": "2020-12-03T15:47:40.505166Z",
     "start_time": "2020-12-03T15:47:40.294123Z"
    }
   },
   "outputs": [],
   "source": [
    "tokenizer_vec_negative = RegexpTokenizer(r'[a-zA-Z]+')\n",
    "\n",
    "vec_negative.text = vec_negative.text.apply(lambda x: tokenizer_vec_negative.tokenize(x))\n"
   ]
  },
  {
   "cell_type": "code",
   "execution_count": 48,
   "metadata": {
    "ExecuteTime": {
     "end_time": "2020-12-03T15:47:42.565949Z",
     "start_time": "2020-12-03T15:47:42.232057Z"
    }
   },
   "outputs": [],
   "source": [
    "vec_negative.text = vec_negative.text.apply(lambda x: remove_stops(x))\n"
   ]
  },
  {
   "cell_type": "code",
   "execution_count": 49,
   "metadata": {
    "ExecuteTime": {
     "end_time": "2020-12-03T15:47:43.813752Z",
     "start_time": "2020-12-03T15:47:43.803610Z"
    }
   },
   "outputs": [],
   "source": [
    "vec_negative_list = []\n",
    "\n",
    "for sentence in vec_negative.text:\n",
    "    vec_negative_list.append(sentence)"
   ]
  },
  {
   "cell_type": "code",
   "execution_count": 50,
   "metadata": {
    "ExecuteTime": {
     "end_time": "2020-12-03T15:47:47.029206Z",
     "start_time": "2020-12-03T15:47:45.654623Z"
    }
   },
   "outputs": [],
   "source": [
    "model_negative = gensim.models.Word2Vec(vec_negative_list, size=32)"
   ]
  },
  {
   "cell_type": "code",
   "execution_count": 51,
   "metadata": {
    "ExecuteTime": {
     "end_time": "2020-12-03T15:47:48.317431Z",
     "start_time": "2020-12-03T15:47:48.286607Z"
    }
   },
   "outputs": [
    {
     "data": {
      "text/plain": [
       "[('allow', 0.9568873643875122),\n",
       " ('insurance', 0.9567834138870239),\n",
       " ('channel', 0.955030083656311),\n",
       " ('hands', 0.95469069480896),\n",
       " ('tippah', 0.9546656012535095),\n",
       " ('role', 0.9541995525360107),\n",
       " ('sign', 0.9540752172470093),\n",
       " ('wh', 0.9535608291625977),\n",
       " ('challenging', 0.9528957009315491),\n",
       " ('americans', 0.9524274468421936)]"
      ]
     },
     "execution_count": 51,
     "metadata": {},
     "output_type": "execute_result"
    }
   ],
   "source": [
    "model_negative.most_similar('ablaze')"
   ]
  },
  {
   "cell_type": "markdown",
   "metadata": {},
   "source": [
    "# Feature engineering"
   ]
  },
  {
   "cell_type": "markdown",
   "metadata": {
    "ExecuteTime": {
     "end_time": "2020-12-03T19:11:05.864672Z",
     "start_time": "2020-12-03T19:11:05.831077Z"
    }
   },
   "source": [
    "### Lemmitization"
   ]
  },
  {
   "cell_type": "code",
   "execution_count": 52,
   "metadata": {},
   "outputs": [],
   "source": [
    "from sklearn.metrics import f1_score"
   ]
  },
  {
   "cell_type": "code",
   "execution_count": 55,
   "metadata": {},
   "outputs": [],
   "source": [
    "data_model = pd.read_csv('data/tweets.csv')"
   ]
  },
  {
   "cell_type": "code",
   "execution_count": 56,
   "metadata": {},
   "outputs": [
    {
     "data": {
      "text/plain": [
       "0        Communal violence in Bhainsa, Telangana. \"Ston...\n",
       "1        Telangana: Section 144 has been imposed in Bha...\n",
       "2        Arsonist sets cars ablaze at dealership https:...\n",
       "3        Arsonist sets cars ablaze at dealership https:...\n",
       "4        \"Lord Jesus, your love brings freedom and pard...\n",
       "                               ...                        \n",
       "11365    Media should have warned us well in advance. T...\n",
       "11366    i feel directly attacked 💀 i consider moonbin ...\n",
       "11367    i feel directly attacked 💀 i consider moonbin ...\n",
       "11368    ok who remember \"outcast\" nd the \"dora\" au?? T...\n",
       "11369       Jake Corway wrecked while running 14th at IRP.\n",
       "Name: text, Length: 11370, dtype: object"
      ]
     },
     "execution_count": 56,
     "metadata": {},
     "output_type": "execute_result"
    }
   ],
   "source": [
    "data_model.text"
   ]
  },
  {
   "cell_type": "code",
   "execution_count": 57,
   "metadata": {},
   "outputs": [],
   "source": [
    "tokenizer = RegexpTokenizer(r'[a-zA-Z0-9!]+')\n",
    "\n",
    "data_model.text = data_model.text.apply(lambda x: tokenizer.tokenize(x))"
   ]
  },
  {
   "cell_type": "code",
   "execution_count": 58,
   "metadata": {},
   "outputs": [],
   "source": [
    "lemmatizer = WordNetLemmatizer() \n",
    "\n",
    "def lemm_text(words):\n",
    "    lem = []\n",
    "    for word in words:\n",
    "        lem.append(lemmatizer.lemmatize(word))\n",
    "    return lem  "
   ]
  },
  {
   "cell_type": "code",
   "execution_count": 59,
   "metadata": {},
   "outputs": [],
   "source": [
    "data_model.text = data_model.text.apply(lambda x: lemm_text(x))"
   ]
  },
  {
   "cell_type": "code",
   "execution_count": 60,
   "metadata": {},
   "outputs": [],
   "source": [
    "# Reformat to singular strings per observation\n",
    "data_model.text = data_model.text.apply(lambda x: ','.join(x))\n",
    "data_model.text = data_model.text.apply(lambda x: x.replace(',',' '))"
   ]
  },
  {
   "cell_type": "markdown",
   "metadata": {},
   "source": [
    "###  Calculating TFIDF scores"
   ]
  },
  {
   "cell_type": "code",
   "execution_count": 61,
   "metadata": {},
   "outputs": [],
   "source": [
    "X = data_model.text\n",
    "Y = data_model.target\n",
    "from sklearn.feature_extraction.text import TfidfVectorizer\n",
    "from sklearn.feature_extraction.text import TfidfTransformer\n"
   ]
  },
  {
   "cell_type": "code",
   "execution_count": 62,
   "metadata": {},
   "outputs": [],
   "source": [
    "sw_list = stopwords.words('english')\n",
    "sw_list += list(string.punctuation)\n",
    "sw_list += [\"''\", '\"\"', '...', '``', '’', '“', '’', '”', '‘', '‘', '©',\n",
    "            'said', 'one', 'com','-', '–', '—', 'co', 'wa', 'ha', '1', 'amp']\n",
    "sw_set = set(sw_list)"
   ]
  },
  {
   "cell_type": "code",
   "execution_count": 63,
   "metadata": {},
   "outputs": [],
   "source": [
    "X_train_lem, X_test_lem, y_train_lem, y_test_lem = train_test_split(X, Y, test_size=0.20, random_state=1)\n",
    "tfidf = TfidfVectorizer(ngram_range= (1,2), stop_words= sw_set)\n",
    "\n",
    "tfidf_data_train_lem = tfidf.fit_transform(X_train_lem)\n",
    "tfidf_data_test_lem = tfidf.transform(X_test_lem)\n"
   ]
  },
  {
   "cell_type": "markdown",
   "metadata": {},
   "source": [
    "# Modeling "
   ]
  },
  {
   "cell_type": "markdown",
   "metadata": {},
   "source": [
    "Our data has a significant class imbalance, so just guessing that each case was a non event would be accurate 80% of the time. We need to find a model that can do significantly better than 80% accuracy and demonstrate through F1 score that it is able to do a good job of distingusing between the two classes. While its application relies on accuracy, F1 score is a better measure of future success when your data has a significant class imbalance as ours does."
   ]
  },
  {
   "cell_type": "markdown",
   "metadata": {},
   "source": [
    "### Baseline KNN"
   ]
  },
  {
   "cell_type": "code",
   "execution_count": 64,
   "metadata": {},
   "outputs": [],
   "source": [
    "from sklearn.neighbors import KNeighborsClassifier"
   ]
  },
  {
   "cell_type": "code",
   "execution_count": 65,
   "metadata": {},
   "outputs": [],
   "source": [
    "knn = KNeighborsClassifier(n_neighbors=1)"
   ]
  },
  {
   "cell_type": "code",
   "execution_count": 66,
   "metadata": {},
   "outputs": [],
   "source": [
    "bl_model = knn.fit(tfidf_data_train_lem, y_train_lem)"
   ]
  },
  {
   "cell_type": "code",
   "execution_count": 67,
   "metadata": {},
   "outputs": [],
   "source": [
    "bl_pred = bl_model.predict(tfidf_data_test_lem)"
   ]
  },
  {
   "cell_type": "code",
   "execution_count": 68,
   "metadata": {
    "scrolled": true
   },
   "outputs": [
    {
     "name": "stdout",
     "output_type": "stream",
     "text": [
      "Random Forest with Lemmatization Features\n",
      "Testing Accuracy: 0.8769\n",
      "\n",
      "F1 Score: 0.5018\n"
     ]
    }
   ],
   "source": [
    "rf_acc_score_lem = accuracy_score(y_test_lem, bl_pred)\n",
    "rf_f1_score_lem = f1_score(y_test_lem, bl_pred)\n",
    "print('Random Forest with Lemmatization Features')\n",
    "print(\"Testing Accuracy: {:.4}\".format(rf_acc_score_lem))\n",
    "print()\n",
    "print(\"F1 Score: {:.4}\".format(rf_f1_score_lem))"
   ]
  },
  {
   "cell_type": "markdown",
   "metadata": {},
   "source": [
    "An out of the box knn is 87% accurate and does an okay job of picking between the two classes. I think more advanced models will work better however, especially in terms of F1 score."
   ]
  },
  {
   "cell_type": "markdown",
   "metadata": {},
   "source": [
    "## Random Forest Classifier with TFIDF Scores"
   ]
  },
  {
   "cell_type": "markdown",
   "metadata": {},
   "source": [
    "First lets try a Random Forest Classifier (RFC) with our engineered TFIDF scores"
   ]
  },
  {
   "cell_type": "code",
   "execution_count": 69,
   "metadata": {},
   "outputs": [],
   "source": [
    "from sklearn.metrics import f1_score"
   ]
  },
  {
   "cell_type": "code",
   "execution_count": 70,
   "metadata": {},
   "outputs": [],
   "source": [
    "rf_classifier_lem = RandomForestClassifier(n_estimators=100, random_state=0, class_weight= 'balanced')"
   ]
  },
  {
   "cell_type": "code",
   "execution_count": 71,
   "metadata": {},
   "outputs": [],
   "source": [
    "rf_classifier_lem.fit(tfidf_data_train_lem, y_train_lem)\n",
    "\n",
    "rf_test_preds_lem = rf_classifier_lem.predict(tfidf_data_test_lem)"
   ]
  },
  {
   "cell_type": "code",
   "execution_count": 72,
   "metadata": {},
   "outputs": [
    {
     "name": "stdout",
     "output_type": "stream",
     "text": [
      "Random Forest with Lemmatization Features\n",
      "Testing Accuracy: 0.887\n",
      "\n",
      "F1 Score: 0.5666\n"
     ]
    }
   ],
   "source": [
    "rf_acc_score_lem = accuracy_score(y_test_lem, rf_test_preds_lem)\n",
    "rf_f1_score_lem = f1_score(y_test_lem, rf_test_preds_lem)\n",
    "print('Random Forest with Lemmatization Features')\n",
    "print(\"Testing Accuracy: {:.4}\".format(rf_acc_score_lem))\n",
    "print()\n",
    "print(\"F1 Score: {:.4}\".format(rf_f1_score_lem))"
   ]
  },
  {
   "cell_type": "markdown",
   "metadata": {},
   "source": [
    "An RCF classifier did significantly better than our baseline, bumping the accuracy up to .889 and achieving and F1 score of .566. Lets still check if a Naive Bayes Classifier does any better then tune whichecver one works the best. "
   ]
  },
  {
   "cell_type": "markdown",
   "metadata": {},
   "source": [
    "## Naive Bayes"
   ]
  },
  {
   "cell_type": "markdown",
   "metadata": {},
   "source": [
    "Lets try a Naive Bayes model with our TDIF scores and see if we can get even better results."
   ]
  },
  {
   "cell_type": "code",
   "execution_count": 73,
   "metadata": {},
   "outputs": [],
   "source": [
    "from sklearn.naive_bayes import MultinomialNB"
   ]
  },
  {
   "cell_type": "code",
   "execution_count": 74,
   "metadata": {},
   "outputs": [],
   "source": [
    "nb_classifier = MultinomialNB(alpha = .01)"
   ]
  },
  {
   "cell_type": "code",
   "execution_count": 75,
   "metadata": {},
   "outputs": [],
   "source": [
    "nb_classifier.fit(tfidf_data_train_lem, y_train_lem)\n",
    "nb_test_preds_lem = nb_classifier.predict(tfidf_data_test_lem)\n"
   ]
  },
  {
   "cell_type": "code",
   "execution_count": 76,
   "metadata": {},
   "outputs": [],
   "source": [
    "nb_acc_score_lem = accuracy_score(y_test_lem, nb_test_preds_lem)\n",
    "nb_f1_score_lem = f1_score(y_test_lem, nb_test_preds_lem)"
   ]
  },
  {
   "cell_type": "code",
   "execution_count": 77,
   "metadata": {},
   "outputs": [
    {
     "name": "stdout",
     "output_type": "stream",
     "text": [
      "Naive Bayes with Lemmatization Features\n",
      "Testing Accuracy: 0.898\n",
      "\n",
      "F1 Score: 0.6813\n"
     ]
    }
   ],
   "source": [
    "print('Naive Bayes with Lemmatization Features')\n",
    "print(\"Testing Accuracy: {:.4}\".format(nb_acc_score_lem))\n",
    "print()\n",
    "print(\"F1 Score: {:.4}\".format(nb_f1_score_lem))"
   ]
  },
  {
   "cell_type": "markdown",
   "metadata": {},
   "source": [
    "The NB classifier did great! It got our accuracy up to almost .9 which is only slightly better than the baseline .87 but it also has an F1 score of .68 indicating it is pretty good at actually differntiating between the two classes. "
   ]
  },
  {
   "cell_type": "markdown",
   "metadata": {},
   "source": [
    "### Hyperparameter Tuning"
   ]
  },
  {
   "cell_type": "code",
   "execution_count": 78,
   "metadata": {},
   "outputs": [
    {
     "name": "stdout",
     "output_type": "stream",
     "text": [
      "Fitting 5 folds for each of 12 candidates, totalling 60 fits\n"
     ]
    },
    {
     "name": "stderr",
     "output_type": "stream",
     "text": [
      "[Parallel(n_jobs=-1)]: Using backend LokyBackend with 4 concurrent workers.\n",
      "[Parallel(n_jobs=-1)]: Done  10 tasks      | elapsed:    6.9s\n",
      "[Parallel(n_jobs=-1)]: Done  60 out of  60 | elapsed:    8.2s finished\n"
     ]
    },
    {
     "data": {
      "text/plain": [
       "GridSearchCV(cv=5, estimator=MultinomialNB(), n_jobs=-1,\n",
       "             param_grid={'alpha': [0.0001, 0.001, 0.01, 0.1, 0.5, 1.0],\n",
       "                         'fit_prior': [True, False]},\n",
       "             scoring='f1', verbose=5)"
      ]
     },
     "execution_count": 78,
     "metadata": {},
     "output_type": "execute_result"
    }
   ],
   "source": [
    "from sklearn.model_selection import GridSearchCV\n",
    "params = {'alpha': [0.0001, 0.001, 0.01, 0.1, 0.5, 1.0 ], 'fit_prior' : [True, False]\n",
    "         }\n",
    "\n",
    "multinomial_nb_grid = GridSearchCV(MultinomialNB(), param_grid=params, n_jobs=-1, cv=5, scoring= 'f1', verbose=5,)\n",
    "multinomial_nb_grid.fit(tfidf_data_train_lem, y_train_lem)"
   ]
  },
  {
   "cell_type": "code",
   "execution_count": 79,
   "metadata": {},
   "outputs": [
    {
     "data": {
      "text/plain": [
       "{'alpha': 1.0, 'fit_prior': False}"
      ]
     },
     "execution_count": 79,
     "metadata": {},
     "output_type": "execute_result"
    }
   ],
   "source": [
    "multinomial_nb_grid.best_params_"
   ]
  },
  {
   "cell_type": "code",
   "execution_count": 80,
   "metadata": {},
   "outputs": [],
   "source": [
    "grid_preds = multinomial_nb_grid.predict(tfidf_data_test_lem)"
   ]
  },
  {
   "cell_type": "code",
   "execution_count": 81,
   "metadata": {},
   "outputs": [],
   "source": [
    "nb_acc_score_lem = accuracy_score(y_test_lem, grid_preds)\n",
    "nb_f1_score_lem = f1_score(y_test_lem, grid_preds)"
   ]
  },
  {
   "cell_type": "code",
   "execution_count": 82,
   "metadata": {},
   "outputs": [
    {
     "name": "stdout",
     "output_type": "stream",
     "text": [
      "Naive Bayes with Lemmatization Features\n",
      "Testing Accuracy: 0.8918\n",
      "\n",
      "F1 Score: 0.6132\n"
     ]
    }
   ],
   "source": [
    "print('Naive Bayes with Lemmatization Features')\n",
    "print(\"Testing Accuracy: {:.4}\".format(nb_acc_score_lem))\n",
    "print()\n",
    "print(\"F1 Score: {:.4}\".format(nb_f1_score_lem))"
   ]
  },
  {
   "cell_type": "markdown",
   "metadata": {},
   "source": [
    "### Additional Cross Validation "
   ]
  },
  {
   "cell_type": "markdown",
   "metadata": {},
   "source": [
    "I am not sure why the non grid search model seemed to perform far better, lets try some further cross validation to see if it can help us understand whats happening here. "
   ]
  },
  {
   "cell_type": "code",
   "execution_count": 83,
   "metadata": {},
   "outputs": [],
   "source": [
    "from sklearn.model_selection import cross_val_score\n",
    "all_accuracies_non_grid = cross_val_score(estimator= nb_classifier, X= tfidf_data_train_lem, y= y_train_lem, cv=10)"
   ]
  },
  {
   "cell_type": "code",
   "execution_count": 84,
   "metadata": {},
   "outputs": [
    {
     "name": "stdout",
     "output_type": "stream",
     "text": [
      "Fitting 5 folds for each of 12 candidates, totalling 60 fits\n"
     ]
    },
    {
     "name": "stderr",
     "output_type": "stream",
     "text": [
      "[Parallel(n_jobs=-1)]: Using backend LokyBackend with 4 concurrent workers.\n",
      "[Parallel(n_jobs=-1)]: Done  12 tasks      | elapsed:    0.6s\n",
      "[Parallel(n_jobs=-1)]: Done  60 out of  60 | elapsed:    1.7s finished\n",
      "[Parallel(n_jobs=-1)]: Using backend LokyBackend with 4 concurrent workers.\n"
     ]
    },
    {
     "name": "stdout",
     "output_type": "stream",
     "text": [
      "Fitting 5 folds for each of 12 candidates, totalling 60 fits\n"
     ]
    },
    {
     "name": "stderr",
     "output_type": "stream",
     "text": [
      "[Parallel(n_jobs=-1)]: Done  12 tasks      | elapsed:    0.8s\n",
      "[Parallel(n_jobs=-1)]: Done  60 out of  60 | elapsed:    2.2s finished\n",
      "[Parallel(n_jobs=-1)]: Using backend LokyBackend with 4 concurrent workers.\n"
     ]
    },
    {
     "name": "stdout",
     "output_type": "stream",
     "text": [
      "Fitting 5 folds for each of 12 candidates, totalling 60 fits\n"
     ]
    },
    {
     "name": "stderr",
     "output_type": "stream",
     "text": [
      "[Parallel(n_jobs=-1)]: Done  12 tasks      | elapsed:    0.6s\n",
      "[Parallel(n_jobs=-1)]: Done  53 out of  60 | elapsed:    1.4s remaining:    0.2s\n",
      "[Parallel(n_jobs=-1)]: Done  60 out of  60 | elapsed:    1.6s finished\n"
     ]
    },
    {
     "name": "stdout",
     "output_type": "stream",
     "text": [
      "Fitting 5 folds for each of 12 candidates, totalling 60 fits\n"
     ]
    },
    {
     "name": "stderr",
     "output_type": "stream",
     "text": [
      "[Parallel(n_jobs=-1)]: Using backend LokyBackend with 4 concurrent workers.\n",
      "[Parallel(n_jobs=-1)]: Done  12 tasks      | elapsed:    0.5s\n",
      "[Parallel(n_jobs=-1)]: Done  60 out of  60 | elapsed:    1.6s finished\n",
      "[Parallel(n_jobs=-1)]: Using backend LokyBackend with 4 concurrent workers.\n"
     ]
    },
    {
     "name": "stdout",
     "output_type": "stream",
     "text": [
      "Fitting 5 folds for each of 12 candidates, totalling 60 fits\n"
     ]
    },
    {
     "name": "stderr",
     "output_type": "stream",
     "text": [
      "[Parallel(n_jobs=-1)]: Done  12 tasks      | elapsed:    0.6s\n",
      "[Parallel(n_jobs=-1)]: Done  60 out of  60 | elapsed:    1.8s finished\n",
      "[Parallel(n_jobs=-1)]: Using backend LokyBackend with 4 concurrent workers.\n"
     ]
    },
    {
     "name": "stdout",
     "output_type": "stream",
     "text": [
      "Fitting 5 folds for each of 12 candidates, totalling 60 fits\n"
     ]
    },
    {
     "name": "stderr",
     "output_type": "stream",
     "text": [
      "[Parallel(n_jobs=-1)]: Done  12 tasks      | elapsed:    0.5s\n",
      "[Parallel(n_jobs=-1)]: Done  60 out of  60 | elapsed:    1.4s finished\n",
      "[Parallel(n_jobs=-1)]: Using backend LokyBackend with 4 concurrent workers.\n"
     ]
    },
    {
     "name": "stdout",
     "output_type": "stream",
     "text": [
      "Fitting 5 folds for each of 12 candidates, totalling 60 fits\n"
     ]
    },
    {
     "name": "stderr",
     "output_type": "stream",
     "text": [
      "[Parallel(n_jobs=-1)]: Done  12 tasks      | elapsed:    0.6s\n",
      "[Parallel(n_jobs=-1)]: Done  60 out of  60 | elapsed:    1.5s finished\n",
      "[Parallel(n_jobs=-1)]: Using backend LokyBackend with 4 concurrent workers.\n"
     ]
    },
    {
     "name": "stdout",
     "output_type": "stream",
     "text": [
      "Fitting 5 folds for each of 12 candidates, totalling 60 fits\n"
     ]
    },
    {
     "name": "stderr",
     "output_type": "stream",
     "text": [
      "[Parallel(n_jobs=-1)]: Done  12 tasks      | elapsed:    0.6s\n",
      "[Parallel(n_jobs=-1)]: Done  60 out of  60 | elapsed:    1.7s finished\n",
      "[Parallel(n_jobs=-1)]: Using backend LokyBackend with 4 concurrent workers.\n"
     ]
    },
    {
     "name": "stdout",
     "output_type": "stream",
     "text": [
      "Fitting 5 folds for each of 12 candidates, totalling 60 fits\n"
     ]
    },
    {
     "name": "stderr",
     "output_type": "stream",
     "text": [
      "[Parallel(n_jobs=-1)]: Done  12 tasks      | elapsed:    0.5s\n",
      "[Parallel(n_jobs=-1)]: Done  53 out of  60 | elapsed:    1.6s remaining:    0.2s\n",
      "[Parallel(n_jobs=-1)]: Done  60 out of  60 | elapsed:    1.7s finished\n"
     ]
    },
    {
     "name": "stdout",
     "output_type": "stream",
     "text": [
      "Fitting 5 folds for each of 12 candidates, totalling 60 fits\n"
     ]
    },
    {
     "name": "stderr",
     "output_type": "stream",
     "text": [
      "[Parallel(n_jobs=-1)]: Using backend LokyBackend with 4 concurrent workers.\n",
      "[Parallel(n_jobs=-1)]: Done  12 tasks      | elapsed:    0.7s\n",
      "[Parallel(n_jobs=-1)]: Done  53 out of  60 | elapsed:    1.9s remaining:    0.2s\n",
      "[Parallel(n_jobs=-1)]: Done  60 out of  60 | elapsed:    2.0s finished\n"
     ]
    }
   ],
   "source": [
    "from sklearn.model_selection import cross_val_score\n",
    "all_accuracies_best = cross_val_score(estimator= multinomial_nb_grid, X= tfidf_data_train_lem, y= y_train_lem, cv=10)"
   ]
  },
  {
   "cell_type": "code",
   "execution_count": 85,
   "metadata": {},
   "outputs": [
    {
     "name": "stdout",
     "output_type": "stream",
     "text": [
      "without grid search: {0.6352254016610452} with grid search: {0.5788487230652274}\n"
     ]
    }
   ],
   "source": [
    "print(f\"without grid search:\", {np.mean(all_accuracies_non_grid)},\n",
    "       f\"with grid search:\", {np.mean(all_accuracies_best)})"
   ]
  },
  {
   "cell_type": "markdown",
   "metadata": {},
   "source": [
    "I am not sure whats going on here but lets stick with an alpha of 0.01 since that seems to work best for our model even after cross validation, regardless of what the grid search indicated. \n"
   ]
  },
  {
   "cell_type": "markdown",
   "metadata": {},
   "source": [
    "### Finalizing our Model by Training it on all the Tweets "
   ]
  },
  {
   "cell_type": "code",
   "execution_count": 86,
   "metadata": {},
   "outputs": [],
   "source": [
    "tfidf_all = TfidfVectorizer(ngram_range= (1,2), stop_words= sw_set)\n",
    "\n",
    "X_all = tfidf_all.fit_transform(X)\n"
   ]
  },
  {
   "cell_type": "code",
   "execution_count": 87,
   "metadata": {},
   "outputs": [],
   "source": [
    "nb_all = MultinomialNB(alpha = .01)"
   ]
  },
  {
   "cell_type": "code",
   "execution_count": 88,
   "metadata": {},
   "outputs": [
    {
     "data": {
      "text/plain": [
       "MultinomialNB(alpha=0.01)"
      ]
     },
     "execution_count": 88,
     "metadata": {},
     "output_type": "execute_result"
    }
   ],
   "source": [
    "nb_all.fit(X_all, Y)"
   ]
  },
  {
   "cell_type": "code",
   "execution_count": 89,
   "metadata": {},
   "outputs": [],
   "source": [
    "all_preds = nb_all.predict(X_all)"
   ]
  },
  {
   "cell_type": "code",
   "execution_count": 90,
   "metadata": {},
   "outputs": [],
   "source": [
    "nb_acc_score_all = accuracy_score(Y, all_preds)\n",
    "nb_f1_score_all = f1_score(Y, all_preds)"
   ]
  },
  {
   "cell_type": "code",
   "execution_count": 91,
   "metadata": {},
   "outputs": [
    {
     "name": "stdout",
     "output_type": "stream",
     "text": [
      "Naive Bayes with Lemmatization Features\n",
      "Testing Accuracy: 0.997\n",
      "\n",
      "F1 Score: 0.992\n"
     ]
    }
   ],
   "source": [
    "print('Naive Bayes with Lemmatization Features')\n",
    "print(\"Testing Accuracy: {:.4}\".format(nb_acc_score_all))\n",
    "print()\n",
    "print(\"F1 Score: {:.4}\".format(nb_f1_score_all))"
   ]
  },
  {
   "cell_type": "markdown",
   "metadata": {},
   "source": [
    "### Most Important Features "
   ]
  },
  {
   "cell_type": "code",
   "execution_count": 113,
   "metadata": {},
   "outputs": [
    {
     "name": "stdout",
     "output_type": "stream",
     "text": [
      "australia storm volcano iran thunderstorm train killed people fire http\n"
     ]
    }
   ],
   "source": [
    "feature_names = tfidf_all.get_feature_names()\n",
    "top10 = np.argsort(nb_all.coef_[0])[-10:]\n",
    "\n",
    "print(\" \".join(feature_names[j] for j in top10))"
   ]
  },
  {
   "cell_type": "markdown",
   "metadata": {},
   "source": [
    "**The most importand words in the Multinomial Naive Bayes Classifier model are:** \n",
    "1. australia\n",
    "2. storm\n",
    "3. volcano \n",
    "4. iran\n",
    "5. thunderstorm \n",
    "6. train \n",
    "7. killed\n",
    "8. people\n",
    "9. fire\n",
    "10. http"
   ]
  },
  {
   "cell_type": "markdown",
   "metadata": {},
   "source": [
    "## Further Validation"
   ]
  },
  {
   "cell_type": "markdown",
   "metadata": {},
   "source": [
    "Lets see if we can validate the results of our model further by getting some new data and testing it. We downloaded 100 tweets using the top 5 key terms for the real and non real cases from our eda to test our models ability to differentiate between the two classes in the most common circumstances. We manually tagged each of the 100 tweets using the same methodology as the original dataset. We manually tagged them as an even or non event using the same methodology as our original data set. Lets see how our model does on totally different tweets from our train and test set."
   ]
  },
  {
   "cell_type": "code",
   "execution_count": 95,
   "metadata": {},
   "outputs": [],
   "source": [
    "data_new = pd.read_csv(\"data/further_validation_tweets_target.csv\")"
   ]
  },
  {
   "cell_type": "code",
   "execution_count": 96,
   "metadata": {},
   "outputs": [
    {
     "data": {
      "text/html": [
       "<div>\n",
       "<style scoped>\n",
       "    .dataframe tbody tr th:only-of-type {\n",
       "        vertical-align: middle;\n",
       "    }\n",
       "\n",
       "    .dataframe tbody tr th {\n",
       "        vertical-align: top;\n",
       "    }\n",
       "\n",
       "    .dataframe thead th {\n",
       "        text-align: right;\n",
       "    }\n",
       "</style>\n",
       "<table border=\"1\" class=\"dataframe\">\n",
       "  <thead>\n",
       "    <tr style=\"text-align: right;\">\n",
       "      <th></th>\n",
       "      <th>Unnamed: 0</th>\n",
       "      <th>tweets</th>\n",
       "      <th>target</th>\n",
       "    </tr>\n",
       "  </thead>\n",
       "  <tbody>\n",
       "    <tr>\n",
       "      <th>0</th>\n",
       "      <td>0</td>\n",
       "      <td>RT @dammie_remix: The only breathe taking expe...</td>\n",
       "      <td>0.0</td>\n",
       "    </tr>\n",
       "    <tr>\n",
       "      <th>1</th>\n",
       "      <td>1</td>\n",
       "      <td>@waddie146 @JudicialWatch @realDonaldTrump @To...</td>\n",
       "      <td>0.0</td>\n",
       "    </tr>\n",
       "    <tr>\n",
       "      <th>2</th>\n",
       "      <td>2</td>\n",
       "      <td>Now you can drop the mother f****** mic behind...</td>\n",
       "      <td>0.0</td>\n",
       "    </tr>\n",
       "    <tr>\n",
       "      <th>3</th>\n",
       "      <td>3</td>\n",
       "      <td>RT @dammie_remix: The only breathe taking expe...</td>\n",
       "      <td>0.0</td>\n",
       "    </tr>\n",
       "    <tr>\n",
       "      <th>4</th>\n",
       "      <td>4</td>\n",
       "      <td>Your Ex is drowning 😁\\nUse an emoji to describ...</td>\n",
       "      <td>0.0</td>\n",
       "    </tr>\n",
       "  </tbody>\n",
       "</table>\n",
       "</div>"
      ],
      "text/plain": [
       "   Unnamed: 0                                             tweets  target\n",
       "0           0  RT @dammie_remix: The only breathe taking expe...     0.0\n",
       "1           1  @waddie146 @JudicialWatch @realDonaldTrump @To...     0.0\n",
       "2           2  Now you can drop the mother f****** mic behind...     0.0\n",
       "3           3  RT @dammie_remix: The only breathe taking expe...     0.0\n",
       "4           4  Your Ex is drowning 😁\\nUse an emoji to describ...     0.0"
      ]
     },
     "execution_count": 96,
     "metadata": {},
     "output_type": "execute_result"
    }
   ],
   "source": [
    "data_new.head()"
   ]
  },
  {
   "cell_type": "code",
   "execution_count": 97,
   "metadata": {},
   "outputs": [],
   "source": [
    "data_new.drop('Unnamed: 0', axis = 1, inplace=True)"
   ]
  },
  {
   "cell_type": "code",
   "execution_count": 98,
   "metadata": {},
   "outputs": [
    {
     "data": {
      "text/html": [
       "<div>\n",
       "<style scoped>\n",
       "    .dataframe tbody tr th:only-of-type {\n",
       "        vertical-align: middle;\n",
       "    }\n",
       "\n",
       "    .dataframe tbody tr th {\n",
       "        vertical-align: top;\n",
       "    }\n",
       "\n",
       "    .dataframe thead th {\n",
       "        text-align: right;\n",
       "    }\n",
       "</style>\n",
       "<table border=\"1\" class=\"dataframe\">\n",
       "  <thead>\n",
       "    <tr style=\"text-align: right;\">\n",
       "      <th></th>\n",
       "      <th>tweets</th>\n",
       "      <th>target</th>\n",
       "    </tr>\n",
       "  </thead>\n",
       "  <tbody>\n",
       "    <tr>\n",
       "      <th>0</th>\n",
       "      <td>RT @dammie_remix: The only breathe taking expe...</td>\n",
       "      <td>0.0</td>\n",
       "    </tr>\n",
       "    <tr>\n",
       "      <th>1</th>\n",
       "      <td>@waddie146 @JudicialWatch @realDonaldTrump @To...</td>\n",
       "      <td>0.0</td>\n",
       "    </tr>\n",
       "    <tr>\n",
       "      <th>2</th>\n",
       "      <td>Now you can drop the mother f****** mic behind...</td>\n",
       "      <td>0.0</td>\n",
       "    </tr>\n",
       "    <tr>\n",
       "      <th>3</th>\n",
       "      <td>RT @dammie_remix: The only breathe taking expe...</td>\n",
       "      <td>0.0</td>\n",
       "    </tr>\n",
       "    <tr>\n",
       "      <th>4</th>\n",
       "      <td>Your Ex is drowning 😁\\nUse an emoji to describ...</td>\n",
       "      <td>0.0</td>\n",
       "    </tr>\n",
       "  </tbody>\n",
       "</table>\n",
       "</div>"
      ],
      "text/plain": [
       "                                              tweets  target\n",
       "0  RT @dammie_remix: The only breathe taking expe...     0.0\n",
       "1  @waddie146 @JudicialWatch @realDonaldTrump @To...     0.0\n",
       "2  Now you can drop the mother f****** mic behind...     0.0\n",
       "3  RT @dammie_remix: The only breathe taking expe...     0.0\n",
       "4  Your Ex is drowning 😁\\nUse an emoji to describ...     0.0"
      ]
     },
     "execution_count": 98,
     "metadata": {},
     "output_type": "execute_result"
    }
   ],
   "source": [
    "data_new.head()"
   ]
  },
  {
   "cell_type": "code",
   "execution_count": 99,
   "metadata": {},
   "outputs": [
    {
     "data": {
      "text/plain": [
       "tweets    0\n",
       "target    1\n",
       "dtype: int64"
      ]
     },
     "execution_count": 99,
     "metadata": {},
     "output_type": "execute_result"
    }
   ],
   "source": [
    "data_new.isna().sum()"
   ]
  },
  {
   "cell_type": "code",
   "execution_count": 100,
   "metadata": {},
   "outputs": [],
   "source": [
    "data_new.dropna(inplace= True)"
   ]
  },
  {
   "cell_type": "code",
   "execution_count": 101,
   "metadata": {},
   "outputs": [],
   "source": [
    "data_new.target = data_new.target.apply(lambda x: int(x))"
   ]
  },
  {
   "cell_type": "code",
   "execution_count": 102,
   "metadata": {},
   "outputs": [],
   "source": [
    "tokenizer = RegexpTokenizer(r'[a-zA-Z0-9!]+')\n",
    "\n",
    "data_new.tweets = data_new.tweets.apply(lambda x: tokenizer.tokenize(x))"
   ]
  },
  {
   "cell_type": "code",
   "execution_count": 103,
   "metadata": {},
   "outputs": [],
   "source": [
    "lemmatizer = WordNetLemmatizer() \n",
    "\n",
    "def lemm_text(words):\n",
    "    lem = []\n",
    "    for word in words:\n",
    "        lem.append(lemmatizer.lemmatize(word))\n",
    "    return lem  "
   ]
  },
  {
   "cell_type": "code",
   "execution_count": 104,
   "metadata": {},
   "outputs": [],
   "source": [
    "data_new.tweets = data_new.tweets.apply(lambda x: lemm_text(x))"
   ]
  },
  {
   "cell_type": "code",
   "execution_count": 105,
   "metadata": {},
   "outputs": [],
   "source": [
    "# Reformat to singular strings per observation\n",
    "data_new.tweets = data_new.tweets.apply(lambda x: ','.join(x))\n",
    "data_new.tweets = data_new.tweets.apply(lambda x: x.replace(',',' '))"
   ]
  },
  {
   "cell_type": "code",
   "execution_count": 106,
   "metadata": {},
   "outputs": [],
   "source": [
    "X_new = data_new.tweets\n",
    "Y_new = data_new.target\n"
   ]
  },
  {
   "cell_type": "code",
   "execution_count": 107,
   "metadata": {},
   "outputs": [],
   "source": [
    "\n",
    "tfidf_new = tfidf_all.transform(X_new)\n"
   ]
  },
  {
   "cell_type": "code",
   "execution_count": 108,
   "metadata": {},
   "outputs": [],
   "source": [
    "grid_preds = nb_all.predict(tfidf_new)"
   ]
  },
  {
   "cell_type": "code",
   "execution_count": 109,
   "metadata": {},
   "outputs": [],
   "source": [
    "nb_acc_score_lem = accuracy_score(Y_new, grid_preds)\n",
    "nb_f1_score_lem = f1_score(Y_new, grid_preds)"
   ]
  },
  {
   "cell_type": "code",
   "execution_count": 110,
   "metadata": {},
   "outputs": [
    {
     "name": "stdout",
     "output_type": "stream",
     "text": [
      "Naive Bayes with Lemmatization Features\n",
      "Testing Accuracy: 0.9184\n",
      "\n",
      "F1 Score: 0.75\n"
     ]
    }
   ],
   "source": [
    "print('Naive Bayes with Lemmatization Features')\n",
    "print(\"Testing Accuracy: {:.4}\".format(nb_acc_score_lem))\n",
    "print()\n",
    "print(\"F1 Score: {:.4}\".format(nb_f1_score_lem))"
   ]
  },
  {
   "cell_type": "markdown",
   "metadata": {},
   "source": [
    "Our model did pretty great on our holdout set; this could be becuase we used the most common keywords for each class but it is our reccomendation that in applying this model the top keywords would also be used."
   ]
  },
  {
   "cell_type": "markdown",
   "metadata": {},
   "source": [
    "# Analysis and Application"
   ]
  },
  {
   "cell_type": "markdown",
   "metadata": {},
   "source": [
    "## How did our models do?"
   ]
  },
  {
   "cell_type": "markdown",
   "metadata": {},
   "source": [
    "Our best model was the multinomial naive bayes classifier which got a cross validated F1 score around .68 and an accuracy score consistently over .88. This means that our model was about 9% more accurate than guessing the dominant class and had a reasonable ability to distinguish between the two classes. From our baseline KNN model we raised our accuracy by around .03 and our F1 score by .18. From this we can say it would be a useful model to further narrow your search when trying to determine between events and non events, but not the end of the process. "
   ]
  },
  {
   "cell_type": "markdown",
   "metadata": {},
   "source": [
    "## Recommendations"
   ]
  },
  {
   "cell_type": "markdown",
   "metadata": {},
   "source": [
    "We would reccomend our model for any news or other orginization who wants to use the twitter API to look for events. By using the keyword search terms we found were most likely to be a real event: **violent storm, derailed, chemical emergency, hazardous, buildings on fire, body bag, sinkhole, derailment, collision and thunderstorm,** in conjunction with our model, news orginazations will be able to find a much smaller subset of tweets they can then manually analyze and investigate further"
   ]
  },
  {
   "cell_type": "markdown",
   "metadata": {},
   "source": [
    "## Next Steps"
   ]
  },
  {
   "cell_type": "markdown",
   "metadata": {},
   "source": [
    "### More Data\n",
    "- 11,000 is not a small data set but NLP learning always does better with more entries to learn from. This dataset could easily be 100,000 tweets\n",
    "\n",
    "### Use Pretrained Vectors\n",
    "- We wanted to implement some pretrained vectors with GLoVe from Standford but unfortunately there model is seemingly facing some legal trouble right now. Their vectors were trained by billions of tweets.\n",
    "- We expiremented with Word to Vec but the vectors learned from our data set did not improve any of our models. This code was messy and not in the final notebook. \n",
    "\n",
    "### Neural Net?\n",
    "- A nueral net did not seem worth additional effort with our data set, but if we scraped more tweets and got a sufficiently large data set it could provide more classification power. "
   ]
  }
 ],
 "metadata": {
  "kernelspec": {
   "display_name": "learn-env",
   "language": "python",
   "name": "learn-env"
  },
  "language_info": {
   "codemirror_mode": {
    "name": "ipython",
    "version": 3
   },
   "file_extension": ".py",
   "mimetype": "text/x-python",
   "name": "python",
   "nbconvert_exporter": "python",
   "pygments_lexer": "ipython3",
   "version": "3.6.9"
  },
  "toc": {
   "base_numbering": 1,
   "nav_menu": {},
   "number_sections": true,
   "sideBar": true,
   "skip_h1_title": false,
   "title_cell": "Table of Contents",
   "title_sidebar": "Contents",
   "toc_cell": false,
   "toc_position": {},
   "toc_section_display": true,
   "toc_window_display": false
  },
  "varInspector": {
   "cols": {
    "lenName": 16,
    "lenType": 16,
    "lenVar": 40
   },
   "kernels_config": {
    "python": {
     "delete_cmd_postfix": "",
     "delete_cmd_prefix": "del ",
     "library": "var_list.py",
     "varRefreshCmd": "print(var_dic_list())"
    },
    "r": {
     "delete_cmd_postfix": ") ",
     "delete_cmd_prefix": "rm(",
     "library": "var_list.r",
     "varRefreshCmd": "cat(var_dic_list()) "
    }
   },
   "types_to_exclude": [
    "module",
    "function",
    "builtin_function_or_method",
    "instance",
    "_Feature"
   ],
   "window_display": false
  }
 },
 "nbformat": 4,
 "nbformat_minor": 4
}
